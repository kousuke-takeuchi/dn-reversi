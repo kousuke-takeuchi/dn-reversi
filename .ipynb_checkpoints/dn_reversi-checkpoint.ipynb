{
 "cells": [
  {
   "cell_type": "markdown",
   "metadata": {},
   "source": [
    "### 自分のプレイヤーと敵のプレイヤーを選択して、ゲームに参加させる"
   ]
  },
  {
   "cell_type": "code",
   "execution_count": null,
   "metadata": {
    "scrolled": true
   },
   "outputs": [],
   "source": [
    "# RandomBrain : 置ける場所からランダムに置く\n",
    "# ExpertBrain : できるだけ多くの石を返せる場所や、角を取れる場所を探す\n",
    "from players.brain import RandomBrain, ExpertBrain\n",
    "from players.qlearn import QBrain, DQNBrain\n",
    "\n",
    "me = ExpertBrain()\n",
    "enemy = RandomBrain()"
   ]
  },
  {
   "cell_type": "markdown",
   "metadata": {},
   "source": [
    "### オセロゲームサーバーの立ち上げ"
   ]
  },
  {
   "cell_type": "code",
   "execution_count": null,
   "metadata": {
    "scrolled": true
   },
   "outputs": [],
   "source": [
    "from dn_reversi import start_game\n",
    "# Open reversi GUI Windown\n",
    "start_game(me, enemy, game_count=1000, tick=0.01)"
   ]
  },
  {
   "cell_type": "code",
   "execution_count": null,
   "metadata": {},
   "outputs": [],
   "source": []
  }
 ],
 "metadata": {
  "kernelspec": {
   "display_name": "wxpython",
   "language": "python",
   "name": "wxpython"
  },
  "language_info": {
   "codemirror_mode": {
    "name": "ipython",
    "version": 3
   },
   "file_extension": ".py",
   "mimetype": "text/x-python",
   "name": "python",
   "nbconvert_exporter": "python",
   "pygments_lexer": "ipython3",
   "version": "3.6.5"
  }
 },
 "nbformat": 4,
 "nbformat_minor": 2
}
