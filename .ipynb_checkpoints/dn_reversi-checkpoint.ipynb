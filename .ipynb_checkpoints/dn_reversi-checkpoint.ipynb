{
 "cells": [
  {
   "cell_type": "markdown",
   "metadata": {},
   "source": [
    "## Anaconda Navigatorでwxpythonをインストールする"
   ]
  },
  {
   "cell_type": "code",
   "execution_count": 1,
   "metadata": {},
   "outputs": [],
   "source": [
    "# !ipython kernel install --user --name wxpython --display-name wxpython"
   ]
  },
  {
   "cell_type": "markdown",
   "metadata": {},
   "source": [
    "##### リロードして、カーネルをwxpythonに切り替える"
   ]
  },
  {
   "cell_type": "markdown",
   "metadata": {},
   "source": [
    "### 自分のプレイヤーと敵のプレイヤーを選択して、ゲームに参加させる"
   ]
  },
  {
   "cell_type": "code",
   "execution_count": 2,
   "metadata": {
    "scrolled": true
   },
   "outputs": [],
   "source": [
    "# RandomBrain : 置ける場所からランダムに置く\n",
    "# ExpertBrain : できるだけ多くの石を返せる場所や、角を取れる場所を探す\n",
    "from players.brains import RandomBrain, ExpertBrain\n",
    "\n",
    "me = ExpertBrain()\n",
    "enemy = RandomBrain()"
   ]
  },
  {
   "cell_type": "markdown",
   "metadata": {},
   "source": [
    "### オセロゲームサーバーの立ち上げ"
   ]
  },
  {
   "cell_type": "code",
   "execution_count": 3,
   "metadata": {
    "scrolled": true
   },
   "outputs": [
    {
     "name": "stdout",
     "output_type": "stream",
     "text": [
      "{-1: 46, 1: 18, 0: 0}\n",
      "0\n",
      "1\n",
      "{-1: 46, 1: 18, 0: 0}\n",
      "1\n",
      "0\n",
      "{-1: 26, 1: 38, 0: 0}\n",
      "1\n",
      "1\n",
      "{-1: 26, 1: 38, 0: 0}\n",
      "1\n",
      "1\n",
      "{-1: 14, 1: 50, 0: 0}\n",
      "2\n",
      "1\n",
      "{-1: 14, 1: 50, 0: 0}\n",
      "1\n",
      "2\n"
     ]
    },
    {
     "name": "stderr",
     "output_type": "stream",
     "text": [
      "Exception in thread Thread-6:\n",
      "Traceback (most recent call last):\n",
      "  File \"C:\\Users\\Kousuke Takeuchi\\Anaconda3\\lib\\threading.py\", line 916, in _bootstrap_inner\n",
      "    self.run()\n",
      "  File \"C:\\Users\\Kousuke Takeuchi\\Anaconda3\\lib\\threading.py\", line 864, in run\n",
      "    self._target(*self._args, **self._kwargs)\n",
      "  File \"C:\\Users\\Kousuke Takeuchi\\Documents\\dn-reversi\\reversi\\threads.py\", line 29, in run\n",
      "    board, result, is_game_over = self.owner.update()\n",
      "  File \"C:\\Users\\Kousuke Takeuchi\\Documents\\dn-reversi\\reversi\\game_owner.py\", line 34, in update\n",
      "    board, result, next_player, is_game_over = self.engine.put_piece(player_id, row, col)\n",
      "  File \"C:\\Users\\Kousuke Takeuchi\\Documents\\dn-reversi\\reversi\\engine.py\", line 204, in put_piece\n",
      "    self.update_window()\n",
      "  File \"C:\\Users\\Kousuke Takeuchi\\Documents\\dn-reversi\\reversi\\engine.py\", line 220, in update_window\n",
      "    wx.PostEvent(self.frame, evt)\n",
      "RuntimeError: wrapped C/C++ object of type Panel has been deleted\n",
      "\n"
     ]
    }
   ],
   "source": [
    "from dn_reversi import start_game\n",
    "# Open reversi GUI Windown\n",
    "start_game(me, enemy, game_count=1000, tick=0.01)"
   ]
  },
  {
   "cell_type": "code",
   "execution_count": null,
   "metadata": {},
   "outputs": [],
   "source": []
  },
  {
   "cell_type": "code",
   "execution_count": null,
   "metadata": {},
   "outputs": [],
   "source": []
  }
 ],
 "metadata": {
  "kernelspec": {
   "display_name": "wxpython",
   "language": "python",
   "name": "wxpython"
  },
  "language_info": {
   "codemirror_mode": {
    "name": "ipython",
    "version": 3
   },
   "file_extension": ".py",
   "mimetype": "text/x-python",
   "name": "python",
   "nbconvert_exporter": "python",
   "pygments_lexer": "ipython3",
   "version": "3.6.5"
  }
 },
 "nbformat": 4,
 "nbformat_minor": 2
}
