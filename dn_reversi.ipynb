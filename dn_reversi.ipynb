{
 "cells": [
  {
   "cell_type": "markdown",
   "metadata": {},
   "source": [
    "## Anaconda Navigatorでwxpythonをインストールする"
   ]
  },
  {
   "cell_type": "code",
   "execution_count": 5,
   "metadata": {},
   "outputs": [
    {
     "name": "stdout",
     "output_type": "stream",
     "text": [
      "Installed kernelspec wxpython in C:\\Users\\Kousuke Takeuchi\\AppData\\Roaming\\jupyter\\kernels\\wxpython\n"
     ]
    }
   ],
   "source": [
    "!ipython kernel install --user --name wxpython --display-name wxpython"
   ]
  },
  {
   "cell_type": "markdown",
   "metadata": {},
   "source": [
    "##### リロードして、カーネルをwxpythonに切り替える"
   ]
  },
  {
   "cell_type": "markdown",
   "metadata": {},
   "source": [
    "### 自分のプレイヤーと敵のプレイヤーを選択して、ゲームに参加させる"
   ]
  },
  {
   "cell_type": "code",
   "execution_count": 6,
   "metadata": {
    "scrolled": true
   },
   "outputs": [],
   "source": [
    "# RandomBrain : 置ける場所からランダムに置く\n",
    "# ExpertBrain : できるだけ多くの石を返せる場所や、角を取れる場所を探す\n",
    "from players.brains import RandomBrain, ExpertBrain\n",
    "\n",
    "me = ExpertBrain()\n",
    "enemy = RandomBrain()"
   ]
  },
  {
   "cell_type": "markdown",
   "metadata": {},
   "source": [
    "### オセロゲームサーバーの立ち上げ"
   ]
  },
  {
   "cell_type": "code",
   "execution_count": 7,
   "metadata": {
    "scrolled": true
   },
   "outputs": [
    {
     "name": "stdout",
     "output_type": "stream",
     "text": [
      "{-1: 45, 1: 19, 0: 0}\n",
      "1\n",
      "0\n",
      "{-1: 45, 1: 19, 0: 0}\n",
      "0\n",
      "1\n",
      "{-1: 43, 1: 21, 0: 0}\n",
      "2\n",
      "0\n",
      "{-1: 43, 1: 21, 0: 0}\n",
      "0\n",
      "2\n",
      "{-1: 5, 1: 59, 0: 0}\n",
      "2\n",
      "1\n",
      "{-1: 5, 1: 59, 0: 0}\n",
      "1\n",
      "2\n",
      "{-1: 39, 1: 25, 0: 0}\n",
      "3\n",
      "1\n",
      "{-1: 39, 1: 25, 0: 0}\n",
      "1\n",
      "3\n",
      "{-1: 50, 1: 14, 0: 0}\n",
      "4\n",
      "1\n",
      "{-1: 50, 1: 14, 0: 0}\n",
      "1\n",
      "4\n",
      "{-1: 42, 1: 22, 0: 0}\n",
      "5\n",
      "1\n",
      "{-1: 42, 1: 22, 0: 0}\n",
      "1\n",
      "5\n",
      "{-1: 26, 1: 38, 0: 0}\n",
      "5\n",
      "2\n",
      "{-1: 26, 1: 38, 0: 0}\n",
      "2\n",
      "5\n",
      "{-1: 46, 1: 18, 0: 0}\n",
      "6\n",
      "2\n",
      "{-1: 46, 1: 18, 0: 0}\n",
      "2\n",
      "6\n",
      "{-1: 48, 1: 0, 0: 16}\n",
      "7\n",
      "2\n",
      "{-1: 48, 1: 0, 0: 16}\n",
      "2\n",
      "7\n",
      "{-1: 39, 1: 25, 0: 0}\n",
      "8\n",
      "2\n",
      "{-1: 39, 1: 25, 0: 0}\n",
      "2\n",
      "8\n",
      "{-1: 39, 1: 0, 0: 25}\n",
      "9\n",
      "2\n",
      "{-1: 39, 1: 0, 0: 25}\n",
      "2\n",
      "9\n",
      "{-1: 56, 1: 8, 0: 0}\n",
      "10\n",
      "2\n",
      "{-1: 56, 1: 8, 0: 0}\n",
      "2\n",
      "10\n",
      "{-1: 50, 1: 14, 0: 0}\n",
      "11\n",
      "2\n",
      "{-1: 50, 1: 14, 0: 0}\n",
      "2\n",
      "11\n",
      "{-1: 35, 1: 29, 0: 0}\n",
      "12\n",
      "2\n",
      "{-1: 35, 1: 29, 0: 0}\n",
      "2\n",
      "12\n",
      "{-1: 36, 1: 28, 0: 0}\n",
      "13\n",
      "2\n",
      "{-1: 36, 1: 28, 0: 0}\n",
      "2\n",
      "13\n",
      "{-1: 42, 1: 22, 0: 0}\n",
      "14\n",
      "2\n",
      "{-1: 42, 1: 22, 0: 0}\n",
      "2\n",
      "14\n",
      "{-1: 41, 1: 23, 0: 0}\n",
      "15\n",
      "2\n",
      "{-1: 41, 1: 23, 0: 0}\n",
      "2\n",
      "15\n"
     ]
    }
   ],
   "source": [
    "from dn_reversi import start_game\n",
    "# Open reversi GUI Windown\n",
    "start_game(me, enemy, game_count=1000, tick=0.01)"
   ]
  },
  {
   "cell_type": "code",
   "execution_count": null,
   "metadata": {},
   "outputs": [],
   "source": []
  }
 ],
 "metadata": {
  "kernelspec": {
   "display_name": "wxpython",
   "language": "python",
   "name": "wxpython"
  },
  "language_info": {
   "codemirror_mode": {
    "name": "ipython",
    "version": 3
   },
   "file_extension": ".py",
   "mimetype": "text/x-python",
   "name": "python",
   "nbconvert_exporter": "python",
   "pygments_lexer": "ipython3",
   "version": "3.6.5"
  }
 },
 "nbformat": 4,
 "nbformat_minor": 2
}
